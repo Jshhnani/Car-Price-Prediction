{
 "cells": [
  {
   "cell_type": "markdown",
   "id": "79b9ee33",
   "metadata": {},
   "source": [
    "# car price prediction"
   ]
  },
  {
   "cell_type": "code",
   "execution_count": 1,
   "id": "ec684f21",
   "metadata": {},
   "outputs": [],
   "source": [
    "import pandas as pd\n",
    "import matplotlib.pyplot as plt\n",
    "import seaborn as sns"
   ]
  },
  {
   "cell_type": "code",
   "execution_count": 2,
   "id": "459db434",
   "metadata": {},
   "outputs": [
    {
     "data": {
      "text/html": [
       "<div>\n",
       "<style scoped>\n",
       "    .dataframe tbody tr th:only-of-type {\n",
       "        vertical-align: middle;\n",
       "    }\n",
       "\n",
       "    .dataframe tbody tr th {\n",
       "        vertical-align: top;\n",
       "    }\n",
       "\n",
       "    .dataframe thead th {\n",
       "        text-align: right;\n",
       "    }\n",
       "</style>\n",
       "<table border=\"1\" class=\"dataframe\">\n",
       "  <thead>\n",
       "    <tr style=\"text-align: right;\">\n",
       "      <th></th>\n",
       "      <th>name</th>\n",
       "      <th>year</th>\n",
       "      <th>km_driven</th>\n",
       "      <th>fuel</th>\n",
       "      <th>seller_type</th>\n",
       "      <th>transmission</th>\n",
       "      <th>owner</th>\n",
       "      <th>mileage(km/ltr/kg)</th>\n",
       "      <th>engine</th>\n",
       "      <th>max_power</th>\n",
       "      <th>seats</th>\n",
       "      <th>selling_price</th>\n",
       "    </tr>\n",
       "  </thead>\n",
       "  <tbody>\n",
       "    <tr>\n",
       "      <th>0</th>\n",
       "      <td>Maruti Swift Dzire VDI</td>\n",
       "      <td>2014</td>\n",
       "      <td>145500</td>\n",
       "      <td>Diesel</td>\n",
       "      <td>Individual</td>\n",
       "      <td>Manual</td>\n",
       "      <td>First Owner</td>\n",
       "      <td>23.40</td>\n",
       "      <td>1248.0</td>\n",
       "      <td>74</td>\n",
       "      <td>5.0</td>\n",
       "      <td>450000</td>\n",
       "    </tr>\n",
       "    <tr>\n",
       "      <th>1</th>\n",
       "      <td>Skoda Rapid 1.5 TDI Ambition</td>\n",
       "      <td>2014</td>\n",
       "      <td>120000</td>\n",
       "      <td>Diesel</td>\n",
       "      <td>Individual</td>\n",
       "      <td>Manual</td>\n",
       "      <td>Second Owner</td>\n",
       "      <td>21.14</td>\n",
       "      <td>1498.0</td>\n",
       "      <td>103.52</td>\n",
       "      <td>5.0</td>\n",
       "      <td>370000</td>\n",
       "    </tr>\n",
       "    <tr>\n",
       "      <th>2</th>\n",
       "      <td>Honda City 2017-2020 EXi</td>\n",
       "      <td>2006</td>\n",
       "      <td>140000</td>\n",
       "      <td>Petrol</td>\n",
       "      <td>Individual</td>\n",
       "      <td>Manual</td>\n",
       "      <td>Third Owner</td>\n",
       "      <td>17.70</td>\n",
       "      <td>1497.0</td>\n",
       "      <td>78</td>\n",
       "      <td>5.0</td>\n",
       "      <td>158000</td>\n",
       "    </tr>\n",
       "    <tr>\n",
       "      <th>3</th>\n",
       "      <td>Hyundai i20 Sportz Diesel</td>\n",
       "      <td>2010</td>\n",
       "      <td>127000</td>\n",
       "      <td>Diesel</td>\n",
       "      <td>Individual</td>\n",
       "      <td>Manual</td>\n",
       "      <td>First Owner</td>\n",
       "      <td>23.00</td>\n",
       "      <td>1396.0</td>\n",
       "      <td>90</td>\n",
       "      <td>5.0</td>\n",
       "      <td>225000</td>\n",
       "    </tr>\n",
       "    <tr>\n",
       "      <th>4</th>\n",
       "      <td>Maruti Swift VXI BSIII</td>\n",
       "      <td>2007</td>\n",
       "      <td>120000</td>\n",
       "      <td>Petrol</td>\n",
       "      <td>Individual</td>\n",
       "      <td>Manual</td>\n",
       "      <td>First Owner</td>\n",
       "      <td>16.10</td>\n",
       "      <td>1298.0</td>\n",
       "      <td>88.2</td>\n",
       "      <td>5.0</td>\n",
       "      <td>130000</td>\n",
       "    </tr>\n",
       "  </tbody>\n",
       "</table>\n",
       "</div>"
      ],
      "text/plain": [
       "                           name  year  km_driven    fuel seller_type  \\\n",
       "0        Maruti Swift Dzire VDI  2014     145500  Diesel  Individual   \n",
       "1  Skoda Rapid 1.5 TDI Ambition  2014     120000  Diesel  Individual   \n",
       "2      Honda City 2017-2020 EXi  2006     140000  Petrol  Individual   \n",
       "3     Hyundai i20 Sportz Diesel  2010     127000  Diesel  Individual   \n",
       "4        Maruti Swift VXI BSIII  2007     120000  Petrol  Individual   \n",
       "\n",
       "  transmission         owner  mileage(km/ltr/kg)  engine max_power  seats  \\\n",
       "0       Manual   First Owner               23.40  1248.0        74    5.0   \n",
       "1       Manual  Second Owner               21.14  1498.0    103.52    5.0   \n",
       "2       Manual   Third Owner               17.70  1497.0        78    5.0   \n",
       "3       Manual   First Owner               23.00  1396.0        90    5.0   \n",
       "4       Manual   First Owner               16.10  1298.0      88.2    5.0   \n",
       "\n",
       "   selling_price  \n",
       "0         450000  \n",
       "1         370000  \n",
       "2         158000  \n",
       "3         225000  \n",
       "4         130000  "
      ]
     },
     "execution_count": 2,
     "metadata": {},
     "output_type": "execute_result"
    }
   ],
   "source": [
    "dataset = pd.read_csv(\"cardekho.csv\")\n",
    "dataset.head(5)"
   ]
  },
  {
   "cell_type": "code",
   "execution_count": 3,
   "id": "16a3a5c9",
   "metadata": {},
   "outputs": [
    {
     "data": {
      "text/plain": [
       "(8128, 12)"
      ]
     },
     "execution_count": 3,
     "metadata": {},
     "output_type": "execute_result"
    }
   ],
   "source": [
    "dataset.shape"
   ]
  },
  {
   "cell_type": "code",
   "execution_count": 4,
   "id": "3c43688b",
   "metadata": {},
   "outputs": [
    {
     "data": {
      "text/plain": [
       "name                    0\n",
       "year                    0\n",
       "km_driven               0\n",
       "fuel                    0\n",
       "seller_type             0\n",
       "transmission            0\n",
       "owner                   0\n",
       "mileage(km/ltr/kg)    221\n",
       "engine                221\n",
       "max_power             215\n",
       "seats                 221\n",
       "selling_price           0\n",
       "dtype: int64"
      ]
     },
     "execution_count": 4,
     "metadata": {},
     "output_type": "execute_result"
    }
   ],
   "source": [
    "dataset.isnull().sum()"
   ]
  },
  {
   "cell_type": "code",
   "execution_count": 5,
   "id": "7f49b7b3",
   "metadata": {},
   "outputs": [
    {
     "name": "stdout",
     "output_type": "stream",
     "text": [
      "<class 'pandas.core.frame.DataFrame'>\n",
      "RangeIndex: 8128 entries, 0 to 8127\n",
      "Data columns (total 12 columns):\n",
      " #   Column              Non-Null Count  Dtype  \n",
      "---  ------              --------------  -----  \n",
      " 0   name                8128 non-null   object \n",
      " 1   year                8128 non-null   int64  \n",
      " 2   km_driven           8128 non-null   int64  \n",
      " 3   fuel                8128 non-null   object \n",
      " 4   seller_type         8128 non-null   object \n",
      " 5   transmission        8128 non-null   object \n",
      " 6   owner               8128 non-null   object \n",
      " 7   mileage(km/ltr/kg)  7907 non-null   float64\n",
      " 8   engine              7907 non-null   float64\n",
      " 9   max_power           7913 non-null   object \n",
      " 10  seats               7907 non-null   float64\n",
      " 11  selling_price       8128 non-null   int64  \n",
      "dtypes: float64(3), int64(3), object(6)\n",
      "memory usage: 762.1+ KB\n"
     ]
    }
   ],
   "source": [
    "dataset.info()"
   ]
  },
  {
   "cell_type": "markdown",
   "id": "13499985",
   "metadata": {},
   "source": [
    "missing values filling part"
   ]
  },
  {
   "cell_type": "code",
   "execution_count": 6,
   "id": "2677bc20",
   "metadata": {},
   "outputs": [
    {
     "name": "stderr",
     "output_type": "stream",
     "text": [
      "C:\\Users\\A.JASWANTH\\AppData\\Local\\Temp\\ipykernel_3388\\3085367277.py:2: FutureWarning: A value is trying to be set on a copy of a DataFrame or Series through chained assignment using an inplace method.\n",
      "The behavior will change in pandas 3.0. This inplace method will never work because the intermediate object on which we are setting values always behaves as a copy.\n",
      "\n",
      "For example, when doing 'df[col].method(value, inplace=True)', try using 'df.method({col: value}, inplace=True)' or df[col] = df[col].method(value) instead, to perform the operation inplace on the original object.\n",
      "\n",
      "\n",
      "  dataset[i].fillna(dataset[i].mode()[0], inplace=True)\n"
     ]
    }
   ],
   "source": [
    "for i in dataset.select_dtypes(include=\"float64\").columns:\n",
    "    dataset[i].fillna(dataset[i].mode()[0], inplace=True)"
   ]
  },
  {
   "cell_type": "code",
   "execution_count": 7,
   "id": "b2a218cd",
   "metadata": {},
   "outputs": [
    {
     "name": "stderr",
     "output_type": "stream",
     "text": [
      "C:\\Users\\A.JASWANTH\\AppData\\Local\\Temp\\ipykernel_3388\\3862753010.py:2: FutureWarning: A value is trying to be set on a copy of a DataFrame or Series through chained assignment using an inplace method.\n",
      "The behavior will change in pandas 3.0. This inplace method will never work because the intermediate object on which we are setting values always behaves as a copy.\n",
      "\n",
      "For example, when doing 'df[col].method(value, inplace=True)', try using 'df.method({col: value}, inplace=True)' or df[col] = df[col].method(value) instead, to perform the operation inplace on the original object.\n",
      "\n",
      "\n",
      "  dataset[i].fillna(dataset[i].mode()[0], inplace=True)\n"
     ]
    }
   ],
   "source": [
    "for i in dataset.select_dtypes(include=\"object\").columns:\n",
    "    dataset[i].fillna(dataset[i].mode()[0], inplace=True)"
   ]
  },
  {
   "cell_type": "code",
   "execution_count": 8,
   "id": "46b4014c",
   "metadata": {},
   "outputs": [
    {
     "data": {
      "text/plain": [
       "name                  0\n",
       "year                  0\n",
       "km_driven             0\n",
       "fuel                  0\n",
       "seller_type           0\n",
       "transmission          0\n",
       "owner                 0\n",
       "mileage(km/ltr/kg)    0\n",
       "engine                0\n",
       "max_power             0\n",
       "seats                 0\n",
       "selling_price         0\n",
       "dtype: int64"
      ]
     },
     "execution_count": 8,
     "metadata": {},
     "output_type": "execute_result"
    }
   ],
   "source": [
    "dataset.isnull().sum()"
   ]
  },
  {
   "cell_type": "code",
   "execution_count": 9,
   "id": "0287ec57",
   "metadata": {},
   "outputs": [
    {
     "name": "stdout",
     "output_type": "stream",
     "text": [
      "<class 'pandas.core.frame.DataFrame'>\n",
      "RangeIndex: 8128 entries, 0 to 8127\n",
      "Data columns (total 12 columns):\n",
      " #   Column              Non-Null Count  Dtype  \n",
      "---  ------              --------------  -----  \n",
      " 0   name                8128 non-null   object \n",
      " 1   year                8128 non-null   int64  \n",
      " 2   km_driven           8128 non-null   int64  \n",
      " 3   fuel                8128 non-null   object \n",
      " 4   seller_type         8128 non-null   object \n",
      " 5   transmission        8128 non-null   object \n",
      " 6   owner               8128 non-null   object \n",
      " 7   mileage(km/ltr/kg)  8128 non-null   float64\n",
      " 8   engine              8128 non-null   float64\n",
      " 9   max_power           8128 non-null   object \n",
      " 10  seats               8128 non-null   float64\n",
      " 11  selling_price       8128 non-null   int64  \n",
      "dtypes: float64(3), int64(3), object(6)\n",
      "memory usage: 762.1+ KB\n"
     ]
    }
   ],
   "source": [
    "dataset.info()"
   ]
  },
  {
   "cell_type": "code",
   "execution_count": 10,
   "id": "140b361e",
   "metadata": {},
   "outputs": [
    {
     "data": {
      "text/plain": [
       "array(['Maruti Swift Dzire VDI', 'Skoda Rapid 1.5 TDI Ambition',\n",
       "       'Honda City 2017-2020 EXi', ..., 'Tata Nexon 1.5 Revotorq XT',\n",
       "       'Ford Freestyle Titanium Plus Diesel BSIV',\n",
       "       'Toyota Innova 2.5 GX (Diesel) 8 Seater BS IV'], dtype=object)"
      ]
     },
     "execution_count": 10,
     "metadata": {},
     "output_type": "execute_result"
    }
   ],
   "source": [
    "dataset[\"name\"].unique()"
   ]
  },
  {
   "cell_type": "markdown",
   "id": "3ef3bb33",
   "metadata": {},
   "source": [
    "categorical value to numerical value"
   ]
  },
  {
   "cell_type": "code",
   "execution_count": 11,
   "id": "e3488dad",
   "metadata": {},
   "outputs": [],
   "source": [
    "from sklearn.preprocessing import LabelEncoder"
   ]
  },
  {
   "cell_type": "markdown",
   "id": "47a57a08",
   "metadata": {},
   "source": [
    "car_name"
   ]
  },
  {
   "cell_type": "code",
   "execution_count": 12,
   "id": "9197f60c",
   "metadata": {},
   "outputs": [],
   "source": [
    "car_name_le = LabelEncoder()\n",
    "dataset[\"name\"] = car_name_le.fit_transform(dataset[\"name\"])"
   ]
  },
  {
   "cell_type": "markdown",
   "id": "28c9c962",
   "metadata": {},
   "source": [
    "fuel_name"
   ]
  },
  {
   "cell_type": "code",
   "execution_count": 13,
   "id": "33465f46",
   "metadata": {},
   "outputs": [
    {
     "data": {
      "text/plain": [
       "array(['Diesel', 'Petrol', 'LPG', 'CNG'], dtype=object)"
      ]
     },
     "execution_count": 13,
     "metadata": {},
     "output_type": "execute_result"
    }
   ],
   "source": [
    "dataset[\"fuel\"].unique()"
   ]
  },
  {
   "cell_type": "code",
   "execution_count": 14,
   "id": "74c718fb",
   "metadata": {},
   "outputs": [],
   "source": [
    "fuel_le = LabelEncoder()\n",
    "dataset[\"fuel\"] = fuel_le.fit_transform(dataset[\"fuel\"])"
   ]
  },
  {
   "cell_type": "markdown",
   "id": "3fab3179",
   "metadata": {},
   "source": [
    "seller_type         "
   ]
  },
  {
   "cell_type": "code",
   "execution_count": 15,
   "id": "9d797461",
   "metadata": {},
   "outputs": [],
   "source": [
    "seller_type_le = LabelEncoder()\n",
    "dataset[\"seller_type\"] = seller_type_le.fit_transform(dataset[\"seller_type\"])"
   ]
  },
  {
   "cell_type": "markdown",
   "id": "56778364",
   "metadata": {},
   "source": [
    "transmission"
   ]
  },
  {
   "cell_type": "code",
   "execution_count": 16,
   "id": "f0ba606a",
   "metadata": {},
   "outputs": [],
   "source": [
    "transmission_le = LabelEncoder()\n",
    "dataset[\"transmission\"] = transmission_le.fit_transform(dataset[\"transmission\"])"
   ]
  },
  {
   "cell_type": "markdown",
   "id": "058d38ad",
   "metadata": {},
   "source": [
    "owner"
   ]
  },
  {
   "cell_type": "code",
   "execution_count": 17,
   "id": "95cf6358",
   "metadata": {},
   "outputs": [],
   "source": [
    "owner_le = LabelEncoder()\n",
    "dataset[\"owner\"] = owner_le.fit_transform(dataset[\"owner\"])"
   ]
  },
  {
   "cell_type": "markdown",
   "id": "22d98853",
   "metadata": {},
   "source": [
    "max_power"
   ]
  },
  {
   "cell_type": "code",
   "execution_count": 18,
   "id": "417740a3",
   "metadata": {},
   "outputs": [],
   "source": [
    "max_power_le = LabelEncoder()\n",
    "dataset[\"max_power\"] = owner_le.fit_transform(dataset[\"max_power\"])"
   ]
  },
  {
   "cell_type": "code",
   "execution_count": 19,
   "id": "36810250",
   "metadata": {},
   "outputs": [
    {
     "name": "stdout",
     "output_type": "stream",
     "text": [
      "<class 'pandas.core.frame.DataFrame'>\n",
      "RangeIndex: 8128 entries, 0 to 8127\n",
      "Data columns (total 12 columns):\n",
      " #   Column              Non-Null Count  Dtype  \n",
      "---  ------              --------------  -----  \n",
      " 0   name                8128 non-null   int32  \n",
      " 1   year                8128 non-null   int64  \n",
      " 2   km_driven           8128 non-null   int64  \n",
      " 3   fuel                8128 non-null   int32  \n",
      " 4   seller_type         8128 non-null   int32  \n",
      " 5   transmission        8128 non-null   int32  \n",
      " 6   owner               8128 non-null   int32  \n",
      " 7   mileage(km/ltr/kg)  8128 non-null   float64\n",
      " 8   engine              8128 non-null   float64\n",
      " 9   max_power           8128 non-null   int32  \n",
      " 10  seats               8128 non-null   float64\n",
      " 11  selling_price       8128 non-null   int64  \n",
      "dtypes: float64(3), int32(6), int64(3)\n",
      "memory usage: 571.6 KB\n"
     ]
    }
   ],
   "source": [
    "dataset.info()"
   ]
  },
  {
   "cell_type": "code",
   "execution_count": null,
   "id": "0908b460",
   "metadata": {},
   "outputs": [],
   "source": []
  },
  {
   "cell_type": "code",
   "execution_count": 20,
   "id": "bd03ce12",
   "metadata": {},
   "outputs": [],
   "source": [
    "dataset.drop(columns=[\"seats\"], inplace=True)"
   ]
  },
  {
   "cell_type": "code",
   "execution_count": 21,
   "id": "8eaea49a",
   "metadata": {},
   "outputs": [
    {
     "data": {
      "text/html": [
       "<div>\n",
       "<style scoped>\n",
       "    .dataframe tbody tr th:only-of-type {\n",
       "        vertical-align: middle;\n",
       "    }\n",
       "\n",
       "    .dataframe tbody tr th {\n",
       "        vertical-align: top;\n",
       "    }\n",
       "\n",
       "    .dataframe thead th {\n",
       "        text-align: right;\n",
       "    }\n",
       "</style>\n",
       "<table border=\"1\" class=\"dataframe\">\n",
       "  <thead>\n",
       "    <tr style=\"text-align: right;\">\n",
       "      <th></th>\n",
       "      <th>name</th>\n",
       "      <th>year</th>\n",
       "      <th>km_driven</th>\n",
       "      <th>fuel</th>\n",
       "      <th>seller_type</th>\n",
       "      <th>transmission</th>\n",
       "      <th>owner</th>\n",
       "      <th>mileage(km/ltr/kg)</th>\n",
       "      <th>engine</th>\n",
       "      <th>max_power</th>\n",
       "      <th>selling_price</th>\n",
       "    </tr>\n",
       "  </thead>\n",
       "  <tbody>\n",
       "    <tr>\n",
       "      <th>0</th>\n",
       "      <td>1307</td>\n",
       "      <td>2014</td>\n",
       "      <td>145500</td>\n",
       "      <td>1</td>\n",
       "      <td>1</td>\n",
       "      <td>1</td>\n",
       "      <td>0</td>\n",
       "      <td>23.40</td>\n",
       "      <td>1248.0</td>\n",
       "      <td>244</td>\n",
       "      <td>450000</td>\n",
       "    </tr>\n",
       "    <tr>\n",
       "      <th>1</th>\n",
       "      <td>1607</td>\n",
       "      <td>2014</td>\n",
       "      <td>120000</td>\n",
       "      <td>1</td>\n",
       "      <td>1</td>\n",
       "      <td>1</td>\n",
       "      <td>2</td>\n",
       "      <td>21.14</td>\n",
       "      <td>1498.0</td>\n",
       "      <td>15</td>\n",
       "      <td>370000</td>\n",
       "    </tr>\n",
       "    <tr>\n",
       "      <th>2</th>\n",
       "      <td>385</td>\n",
       "      <td>2006</td>\n",
       "      <td>140000</td>\n",
       "      <td>3</td>\n",
       "      <td>1</td>\n",
       "      <td>1</td>\n",
       "      <td>4</td>\n",
       "      <td>17.70</td>\n",
       "      <td>1497.0</td>\n",
       "      <td>253</td>\n",
       "      <td>158000</td>\n",
       "    </tr>\n",
       "    <tr>\n",
       "      <th>3</th>\n",
       "      <td>781</td>\n",
       "      <td>2010</td>\n",
       "      <td>127000</td>\n",
       "      <td>1</td>\n",
       "      <td>1</td>\n",
       "      <td>1</td>\n",
       "      <td>0</td>\n",
       "      <td>23.00</td>\n",
       "      <td>1396.0</td>\n",
       "      <td>295</td>\n",
       "      <td>225000</td>\n",
       "    </tr>\n",
       "    <tr>\n",
       "      <th>4</th>\n",
       "      <td>1349</td>\n",
       "      <td>2007</td>\n",
       "      <td>120000</td>\n",
       "      <td>3</td>\n",
       "      <td>1</td>\n",
       "      <td>1</td>\n",
       "      <td>0</td>\n",
       "      <td>16.10</td>\n",
       "      <td>1298.0</td>\n",
       "      <td>287</td>\n",
       "      <td>130000</td>\n",
       "    </tr>\n",
       "  </tbody>\n",
       "</table>\n",
       "</div>"
      ],
      "text/plain": [
       "   name  year  km_driven  fuel  seller_type  transmission  owner  \\\n",
       "0  1307  2014     145500     1            1             1      0   \n",
       "1  1607  2014     120000     1            1             1      2   \n",
       "2   385  2006     140000     3            1             1      4   \n",
       "3   781  2010     127000     1            1             1      0   \n",
       "4  1349  2007     120000     3            1             1      0   \n",
       "\n",
       "   mileage(km/ltr/kg)  engine  max_power  selling_price  \n",
       "0               23.40  1248.0        244         450000  \n",
       "1               21.14  1498.0         15         370000  \n",
       "2               17.70  1497.0        253         158000  \n",
       "3               23.00  1396.0        295         225000  \n",
       "4               16.10  1298.0        287         130000  "
      ]
     },
     "execution_count": 21,
     "metadata": {},
     "output_type": "execute_result"
    }
   ],
   "source": [
    "dataset.head(5)"
   ]
  },
  {
   "cell_type": "markdown",
   "id": "01660967",
   "metadata": {},
   "source": [
    "here we cant go for the outlier , because some car prices must be more than other.., so we cant go for it."
   ]
  },
  {
   "cell_type": "code",
   "execution_count": 22,
   "id": "cb91f12d",
   "metadata": {},
   "outputs": [
    {
     "data": {
      "image/png": "[encoded data removed]",
      "text/plain": [
       "<Figure size 640x480 with 2 Axes>"
      ]
     },
     "metadata": {},
     "output_type": "display_data"
    }
   ],
   "source": [
    "sns.heatmap(data=dataset.corr(), annot=True)\n",
    "plt.show()"
   ]
  },
  {
   "cell_type": "markdown",
   "id": "1a9f7b47",
   "metadata": {},
   "source": [
    "# MAIN PART  \n",
    "\n",
    "📌 the data magintude is different from each other, we can go for **feature scaling**, to resolve this."
   ]
  },
  {
   "cell_type": "code",
   "execution_count": 23,
   "id": "486a5045",
   "metadata": {},
   "outputs": [],
   "source": [
    "x = dataset.iloc[:, :-1]\n",
    "y = dataset[\"selling_price\"]"
   ]
  },
  {
   "cell_type": "code",
   "execution_count": null,
   "id": "8ae06f69",
   "metadata": {},
   "outputs": [],
   "source": []
  },
  {
   "cell_type": "code",
   "execution_count": 24,
   "id": "fb933558",
   "metadata": {},
   "outputs": [],
   "source": [
    "from sklearn.preprocessing import StandardScaler"
   ]
  },
  {
   "cell_type": "code",
   "execution_count": 25,
   "id": "ae4a1397",
   "metadata": {},
   "outputs": [],
   "source": [
    "ss = StandardScaler()\n",
    "x = pd.DataFrame(ss.fit_transform(x), columns=x.columns)"
   ]
  },
  {
   "cell_type": "code",
   "execution_count": 26,
   "id": "ef41e8d0",
   "metadata": {},
   "outputs": [
    {
     "data": {
      "text/html": [
       "<div>\n",
       "<style scoped>\n",
       "    .dataframe tbody tr th:only-of-type {\n",
       "        vertical-align: middle;\n",
       "    }\n",
       "\n",
       "    .dataframe tbody tr th {\n",
       "        vertical-align: top;\n",
       "    }\n",
       "\n",
       "    .dataframe thead th {\n",
       "        text-align: right;\n",
       "    }\n",
       "</style>\n",
       "<table border=\"1\" class=\"dataframe\">\n",
       "  <thead>\n",
       "    <tr style=\"text-align: right;\">\n",
       "      <th></th>\n",
       "      <th>name</th>\n",
       "      <th>year</th>\n",
       "      <th>km_driven</th>\n",
       "      <th>fuel</th>\n",
       "      <th>seller_type</th>\n",
       "      <th>transmission</th>\n",
       "      <th>owner</th>\n",
       "      <th>mileage(km/ltr/kg)</th>\n",
       "      <th>engine</th>\n",
       "      <th>max_power</th>\n",
       "    </tr>\n",
       "  </thead>\n",
       "  <tbody>\n",
       "    <tr>\n",
       "      <th>0</th>\n",
       "      <td>0.454710</td>\n",
       "      <td>0.048464</td>\n",
       "      <td>1.338363</td>\n",
       "      <td>-0.889115</td>\n",
       "      <td>0.277607</td>\n",
       "      <td>0.385158</td>\n",
       "      <td>-0.666639</td>\n",
       "      <td>1.003214</td>\n",
       "      <td>-0.411305</td>\n",
       "      <td>0.536950</td>\n",
       "    </tr>\n",
       "    <tr>\n",
       "      <th>1</th>\n",
       "      <td>1.001120</td>\n",
       "      <td>0.048464</td>\n",
       "      <td>0.887411</td>\n",
       "      <td>-0.889115</td>\n",
       "      <td>0.277607</td>\n",
       "      <td>0.385158</td>\n",
       "      <td>0.970600</td>\n",
       "      <td>0.435734</td>\n",
       "      <td>0.090536</td>\n",
       "      <td>-2.012082</td>\n",
       "    </tr>\n",
       "    <tr>\n",
       "      <th>2</th>\n",
       "      <td>-1.224592</td>\n",
       "      <td>-1.929775</td>\n",
       "      <td>1.241098</td>\n",
       "      <td>1.106392</td>\n",
       "      <td>0.277607</td>\n",
       "      <td>0.385158</td>\n",
       "      <td>2.607839</td>\n",
       "      <td>-0.428040</td>\n",
       "      <td>0.088528</td>\n",
       "      <td>0.637131</td>\n",
       "    </tr>\n",
       "    <tr>\n",
       "      <th>3</th>\n",
       "      <td>-0.503330</td>\n",
       "      <td>-0.940656</td>\n",
       "      <td>1.011202</td>\n",
       "      <td>-0.889115</td>\n",
       "      <td>0.277607</td>\n",
       "      <td>0.385158</td>\n",
       "      <td>-0.666639</td>\n",
       "      <td>0.902775</td>\n",
       "      <td>-0.114215</td>\n",
       "      <td>1.104639</td>\n",
       "    </tr>\n",
       "    <tr>\n",
       "      <th>4</th>\n",
       "      <td>0.531207</td>\n",
       "      <td>-1.682495</td>\n",
       "      <td>0.887411</td>\n",
       "      <td>1.106392</td>\n",
       "      <td>0.277607</td>\n",
       "      <td>0.385158</td>\n",
       "      <td>-0.666639</td>\n",
       "      <td>-0.829795</td>\n",
       "      <td>-0.310937</td>\n",
       "      <td>1.015590</td>\n",
       "    </tr>\n",
       "    <tr>\n",
       "      <th>...</th>\n",
       "      <td>...</td>\n",
       "      <td>...</td>\n",
       "      <td>...</td>\n",
       "      <td>...</td>\n",
       "      <td>...</td>\n",
       "      <td>...</td>\n",
       "      <td>...</td>\n",
       "      <td>...</td>\n",
       "      <td>...</td>\n",
       "      <td>...</td>\n",
       "    </tr>\n",
       "    <tr>\n",
       "      <th>8123</th>\n",
       "      <td>-0.521543</td>\n",
       "      <td>-0.198816</td>\n",
       "      <td>0.710567</td>\n",
       "      <td>1.106392</td>\n",
       "      <td>0.277607</td>\n",
       "      <td>0.385158</td>\n",
       "      <td>-0.666639</td>\n",
       "      <td>-0.227162</td>\n",
       "      <td>-0.513680</td>\n",
       "      <td>0.792967</td>\n",
       "    </tr>\n",
       "    <tr>\n",
       "      <th>8124</th>\n",
       "      <td>-0.731001</td>\n",
       "      <td>-1.682495</td>\n",
       "      <td>0.869726</td>\n",
       "      <td>-0.889115</td>\n",
       "      <td>0.277607</td>\n",
       "      <td>0.385158</td>\n",
       "      <td>0.151980</td>\n",
       "      <td>-0.654027</td>\n",
       "      <td>0.080499</td>\n",
       "      <td>-1.845115</td>\n",
       "    </tr>\n",
       "    <tr>\n",
       "      <th>8125</th>\n",
       "      <td>0.476566</td>\n",
       "      <td>-1.187935</td>\n",
       "      <td>0.887411</td>\n",
       "      <td>-0.889115</td>\n",
       "      <td>0.277607</td>\n",
       "      <td>0.385158</td>\n",
       "      <td>-0.666639</td>\n",
       "      <td>-0.026284</td>\n",
       "      <td>-0.411305</td>\n",
       "      <td>0.503557</td>\n",
       "    </tr>\n",
       "    <tr>\n",
       "      <th>8126</th>\n",
       "      <td>1.168686</td>\n",
       "      <td>-0.198816</td>\n",
       "      <td>-0.792605</td>\n",
       "      <td>-0.889115</td>\n",
       "      <td>0.277607</td>\n",
       "      <td>0.385158</td>\n",
       "      <td>-0.666639</td>\n",
       "      <td>1.045900</td>\n",
       "      <td>-0.114215</td>\n",
       "      <td>0.403377</td>\n",
       "    </tr>\n",
       "    <tr>\n",
       "      <th>8127</th>\n",
       "      <td>1.168686</td>\n",
       "      <td>-0.198816</td>\n",
       "      <td>-0.792605</td>\n",
       "      <td>-0.889115</td>\n",
       "      <td>0.277607</td>\n",
       "      <td>0.385158</td>\n",
       "      <td>-0.666639</td>\n",
       "      <td>1.045900</td>\n",
       "      <td>-0.114215</td>\n",
       "      <td>0.403377</td>\n",
       "    </tr>\n",
       "  </tbody>\n",
       "</table>\n",
       "<p>8128 rows × 10 columns</p>\n",
       "</div>"
      ],
      "text/plain": [
       "          name      year  km_driven      fuel  seller_type  transmission  \\\n",
       "0     0.454710  0.048464   1.338363 -0.889115     0.277607      0.385158   \n",
       "1     1.001120  0.048464   0.887411 -0.889115     0.277607      0.385158   \n",
       "2    -1.224592 -1.929775   1.241098  1.106392     0.277607      0.385158   \n",
       "3    -0.503330 -0.940656   1.011202 -0.889115     0.277607      0.385158   \n",
       "4     0.531207 -1.682495   0.887411  1.106392     0.277607      0.385158   \n",
       "...        ...       ...        ...       ...          ...           ...   \n",
       "8123 -0.521543 -0.198816   0.710567  1.106392     0.277607      0.385158   \n",
       "8124 -0.731001 -1.682495   0.869726 -0.889115     0.277607      0.385158   \n",
       "8125  0.476566 -1.187935   0.887411 -0.889115     0.277607      0.385158   \n",
       "8126  1.168686 -0.198816  -0.792605 -0.889115     0.277607      0.385158   \n",
       "8127  1.168686 -0.198816  -0.792605 -0.889115     0.277607      0.385158   \n",
       "\n",
       "         owner  mileage(km/ltr/kg)    engine  max_power  \n",
       "0    -0.666639            1.003214 -0.411305   0.536950  \n",
       "1     0.970600            0.435734  0.090536  -2.012082  \n",
       "2     2.607839           -0.428040  0.088528   0.637131  \n",
       "3    -0.666639            0.902775 -0.114215   1.104639  \n",
       "4    -0.666639           -0.829795 -0.310937   1.015590  \n",
       "...        ...                 ...       ...        ...  \n",
       "8123 -0.666639           -0.227162 -0.513680   0.792967  \n",
       "8124  0.151980           -0.654027  0.080499  -1.845115  \n",
       "8125 -0.666639           -0.026284 -0.411305   0.503557  \n",
       "8126 -0.666639            1.045900 -0.114215   0.403377  \n",
       "8127 -0.666639            1.045900 -0.114215   0.403377  \n",
       "\n",
       "[8128 rows x 10 columns]"
      ]
     },
     "execution_count": 26,
     "metadata": {},
     "output_type": "execute_result"
    }
   ],
   "source": [
    "x"
   ]
  },
  {
   "cell_type": "code",
   "execution_count": 27,
   "id": "4a540f5b",
   "metadata": {},
   "outputs": [],
   "source": [
    "from sklearn.model_selection import train_test_split"
   ]
  },
  {
   "cell_type": "code",
   "execution_count": 28,
   "id": "8147542f",
   "metadata": {},
   "outputs": [],
   "source": [
    "x_train, x_test, y_train, y_test = train_test_split(x,y, test_size=0.2, random_state=42)"
   ]
  },
  {
   "cell_type": "code",
   "execution_count": 29,
   "id": "5c980f73",
   "metadata": {},
   "outputs": [],
   "source": [
    "from sklearn.linear_model import LinearRegression, Lasso, Ridge, ElasticNet\n",
    "from sklearn.tree import DecisionTreeRegressor\n",
    "from sklearn.svm import SVR\n",
    "from sklearn.neighbors import KNeighborsRegressor\n",
    "from sklearn.ensemble import RandomForestRegressor"
   ]
  },
  {
   "cell_type": "code",
   "execution_count": 30,
   "id": "1af97bc4",
   "metadata": {},
   "outputs": [],
   "source": [
    "from sklearn.metrics import mean_squared_error, mean_absolute_error"
   ]
  },
  {
   "cell_type": "markdown",
   "id": "13a82914",
   "metadata": {},
   "source": [
    "***"
   ]
  },
  {
   "cell_type": "code",
   "execution_count": null,
   "id": "1e813dc8",
   "metadata": {},
   "outputs": [
    {
     "data": {
      "text/plain": [
       "(56.30718480792156, 57.9137904314712)"
      ]
     },
     "execution_count": 46,
     "metadata": {},
     "output_type": "execute_result"
    }
   ],
   "source": [
    "# lr = LinearRegression()\n",
    "# lr.fit(x_train, y_train)\n",
    "# lr.score(x_train, y_train)*100, lr.score(x_test, y_test)*100"
   ]
  },
  {
   "cell_type": "code",
   "execution_count": null,
   "id": "cdc5849d",
   "metadata": {},
   "outputs": [
    {
     "data": {
      "text/plain": [
       "(56.3071848079179, 57.913789175700906)"
      ]
     },
     "execution_count": 47,
     "metadata": {},
     "output_type": "execute_result"
    }
   ],
   "source": [
    "# lr1 = Lasso(alpha=0.05)\n",
    "# lr1.fit(x_train, y_train)\n",
    "# lr1.score(x_train, y_train)*100, lr1.score(x_test, y_test)*100"
   ]
  },
  {
   "cell_type": "code",
   "execution_count": null,
   "id": "335b6cea",
   "metadata": {},
   "outputs": [
    {
     "data": {
      "text/plain": [
       "(56.307158437321206, 57.90980758175759)"
      ]
     },
     "execution_count": 48,
     "metadata": {},
     "output_type": "execute_result"
    }
   ],
   "source": [
    "# lr2 = Ridge(alpha=5)\n",
    "# lr2.fit(x_train, y_train)\n",
    "# lr2.score(x_train, y_train)*100, lr2.score(x_test, y_test)*100"
   ]
  },
  {
   "cell_type": "code",
   "execution_count": null,
   "id": "58f5d0eb",
   "metadata": {},
   "outputs": [
    {
     "data": {
      "text/plain": [
       "(56.283028990904796, 57.7773010460076)"
      ]
     },
     "execution_count": 49,
     "metadata": {},
     "output_type": "execute_result"
    }
   ],
   "source": [
    "# lr3 = ElasticNet(alpha=0.05)\n",
    "# lr3.fit(x_train, y_train)\n",
    "# lr3.score(x_train, y_train)*100, lr3.score(x_test, y_test)*100"
   ]
  },
  {
   "cell_type": "code",
   "execution_count": null,
   "id": "b0f9167d",
   "metadata": {},
   "outputs": [
    {
     "data": {
      "text/plain": [
       "(99.98570167753937, 94.1547075453625)"
      ]
     },
     "execution_count": 50,
     "metadata": {},
     "output_type": "execute_result"
    }
   ],
   "source": [
    "# dt = DecisionTreeRegressor()\n",
    "# dt.fit(x_train, y_train)\n",
    "# dt.score(x_train, y_train)*100, dt.score(x_test, y_test)*100"
   ]
  },
  {
   "cell_type": "code",
   "execution_count": null,
   "id": "d6266ced",
   "metadata": {},
   "outputs": [
    {
     "data": {
      "text/plain": [
       "(38314982536.29709, 77368.8870832939)"
      ]
     },
     "execution_count": 51,
     "metadata": {},
     "output_type": "execute_result"
    }
   ],
   "source": [
    "# mean_squared_error(y_test, dt.predict(x_test)), mean_absolute_error(y_test, dt.predict(x_test))"
   ]
  },
  {
   "cell_type": "markdown",
   "id": "cdfc701a",
   "metadata": {},
   "source": [
    "***"
   ]
  },
  {
   "cell_type": "code",
   "execution_count": 31,
   "id": "d83249a2",
   "metadata": {},
   "outputs": [
    {
     "data": {
      "text/plain": [
       "(99.49946969632843, 96.93222243123714)"
      ]
     },
     "execution_count": 31,
     "metadata": {},
     "output_type": "execute_result"
    }
   ],
   "source": [
    "rf = RandomForestRegressor(n_estimators= 100)\n",
    "rf.fit(x_train, y_train)\n",
    "rf.score(x_train, y_train)*100, rf.score(x_test, y_test)*100"
   ]
  },
  {
   "cell_type": "code",
   "execution_count": 32,
   "id": "08047f28",
   "metadata": {},
   "outputs": [
    {
     "data": {
      "text/plain": [
       "(20108804629.465275, 65406.71925070059)"
      ]
     },
     "execution_count": 32,
     "metadata": {},
     "output_type": "execute_result"
    }
   ],
   "source": [
    "mean_squared_error(y_test, rf.predict(x_test)), mean_absolute_error(y_test, rf.predict(x_test))"
   ]
  },
  {
   "cell_type": "code",
   "execution_count": 33,
   "id": "6ba16fb4",
   "metadata": {},
   "outputs": [
    {
     "name": "stderr",
     "output_type": "stream",
     "text": [
      "C:\\Users\\A.JASWANTH\\AppData\\Roaming\\Python\\Python310\\site-packages\\sklearn\\base.py:493: UserWarning: X does not have valid feature names, but RandomForestRegressor was fitted with feature names\n",
      "  warnings.warn(\n"
     ]
    },
    {
     "data": {
      "text/plain": [
       "array([477111.47666667])"
      ]
     },
     "execution_count": 33,
     "metadata": {},
     "output_type": "execute_result"
    }
   ],
   "source": [
    "rf.predict([[0.454710,\t0.048464,\t1.338363,\t-0.889115,\t0.277607,\t0.385158,\t-0.666639,\t1.003214,\t-0.411305,\t0.536950]])"
   ]
  },
  {
   "cell_type": "code",
   "execution_count": 34,
   "id": "53c35be1",
   "metadata": {},
   "outputs": [
    {
     "data": {
      "text/plain": [
       "1971     198000\n",
       "4664     500000\n",
       "5448     425000\n",
       "3333     150000\n",
       "2316     525000\n",
       "         ...   \n",
       "1149    5500000\n",
       "5002     370000\n",
       "6008     374000\n",
       "2283     575000\n",
       "5428     140000\n",
       "Name: selling_price, Length: 1626, dtype: int64"
      ]
     },
     "execution_count": 34,
     "metadata": {},
     "output_type": "execute_result"
    }
   ],
   "source": [
    "y_test"
   ]
  },
  {
   "cell_type": "markdown",
   "id": "650254f1",
   "metadata": {},
   "source": [
    "***"
   ]
  },
  {
   "cell_type": "code",
   "execution_count": null,
   "id": "d6e4f0e7",
   "metadata": {},
   "outputs": [
    {
     "data": {
      "text/plain": [
       "(-5.4561018405533845, -5.288723364405068)"
      ]
     },
     "execution_count": 57,
     "metadata": {},
     "output_type": "execute_result"
    }
   ],
   "source": [
    "# sv = SVR()\n",
    "# sv.fit(x_train, y_train)\n",
    "# sv.score(x_train, y_train)*100, sv.score(x_test, y_test)*100"
   ]
  },
  {
   "cell_type": "code",
   "execution_count": null,
   "id": "b90930b3",
   "metadata": {},
   "outputs": [
    {
     "data": {
      "text/plain": [
       "(99.97584898444113, 95.43681080634846)"
      ]
     },
     "execution_count": 58,
     "metadata": {},
     "output_type": "execute_result"
    }
   ],
   "source": [
    "# knn = KNeighborsRegressor(n_neighbors=1)\n",
    "# knn.fit(x_train, y_train)\n",
    "# knn.score(x_train, y_train)*100, knn.score(x_test, y_test)*100"
   ]
  },
  {
   "cell_type": "code",
   "execution_count": null,
   "id": "65a4b5f9",
   "metadata": {},
   "outputs": [
    {
     "data": {
      "text/plain": [
       "(29910995150.613163, 83764.29827798277)"
      ]
     },
     "execution_count": 59,
     "metadata": {},
     "output_type": "execute_result"
    }
   ],
   "source": [
    "# mean_squared_error(y_test, knn.predict(x_test)), mean_absolute_error(y_test, knn.predict(x_test))"
   ]
  },
  {
   "cell_type": "markdown",
   "id": "7e2e00ff",
   "metadata": {},
   "source": [
    "***"
   ]
  }
 ],
 "metadata": {
  "kernelspec": {
   "display_name": "Python 3",
   "language": "python",
   "name": "python3"
  },
  "language_info": {
   "codemirror_mode": {
    "name": "ipython",
    "version": 3
   },
   "file_extension": ".py",
   "mimetype": "text/x-python",
   "name": "python",
   "nbconvert_exporter": "python",
   "pygments_lexer": "ipython3",
   "version": "3.10.6"
  }
 },
 "nbformat": 4,
 "nbformat_minor": 5
}
